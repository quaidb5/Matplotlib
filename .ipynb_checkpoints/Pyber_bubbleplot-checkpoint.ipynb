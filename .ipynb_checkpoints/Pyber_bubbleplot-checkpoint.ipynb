{
 "cells": [
  {
   "cell_type": "code",
   "execution_count": 1,
   "metadata": {},
   "outputs": [],
   "source": [
    "%matplotlib inline\n",
    "# Dependencies and Setup\n",
    "import matplotlib.pyplot as plt\n",
    "import pandas as pd\n",
    "\n",
    "# File to Load (Remember to change these)\n",
    "city_data_to_load = \"city_data.csv\"\n",
    "ride_data_to_load = \"ride_data.csv\"\n",
    "\n",
    "# Read the City and Ride Data\n",
    "city_data_df = pd.read_csv(city_data_to_load)\n",
    "ride_data_df = pd.read_csv(ride_data_to_load)\n",
    "# Combine the data into a single dataset on city\n"
   ]
  },
  {
   "cell_type": "code",
   "execution_count": 2,
   "metadata": {},
   "outputs": [
    {
     "data": {
      "text/html": [
       "<div>\n",
       "<style scoped>\n",
       "    .dataframe tbody tr th:only-of-type {\n",
       "        vertical-align: middle;\n",
       "    }\n",
       "\n",
       "    .dataframe tbody tr th {\n",
       "        vertical-align: top;\n",
       "    }\n",
       "\n",
       "    .dataframe thead th {\n",
       "        text-align: right;\n",
       "    }\n",
       "</style>\n",
       "<table border=\"1\" class=\"dataframe\">\n",
       "  <thead>\n",
       "    <tr style=\"text-align: right;\">\n",
       "      <th></th>\n",
       "      <th>city</th>\n",
       "      <th>date</th>\n",
       "      <th>fare</th>\n",
       "      <th>ride_id</th>\n",
       "      <th>driver_count</th>\n",
       "      <th>type</th>\n",
       "    </tr>\n",
       "  </thead>\n",
       "  <tbody>\n",
       "    <tr>\n",
       "      <th>0</th>\n",
       "      <td>Lake Jonathanshire</td>\n",
       "      <td>2018-01-14 10:14:22</td>\n",
       "      <td>13.83</td>\n",
       "      <td>5739410935873</td>\n",
       "      <td>5</td>\n",
       "      <td>Urban</td>\n",
       "    </tr>\n",
       "    <tr>\n",
       "      <th>1</th>\n",
       "      <td>Lake Jonathanshire</td>\n",
       "      <td>2018-04-07 20:51:11</td>\n",
       "      <td>31.25</td>\n",
       "      <td>4441251834598</td>\n",
       "      <td>5</td>\n",
       "      <td>Urban</td>\n",
       "    </tr>\n",
       "    <tr>\n",
       "      <th>2</th>\n",
       "      <td>Lake Jonathanshire</td>\n",
       "      <td>2018-03-09 23:45:55</td>\n",
       "      <td>19.89</td>\n",
       "      <td>2389495660448</td>\n",
       "      <td>5</td>\n",
       "      <td>Urban</td>\n",
       "    </tr>\n",
       "    <tr>\n",
       "      <th>3</th>\n",
       "      <td>Lake Jonathanshire</td>\n",
       "      <td>2018-04-07 18:09:21</td>\n",
       "      <td>24.28</td>\n",
       "      <td>7796805191168</td>\n",
       "      <td>5</td>\n",
       "      <td>Urban</td>\n",
       "    </tr>\n",
       "    <tr>\n",
       "      <th>4</th>\n",
       "      <td>Lake Jonathanshire</td>\n",
       "      <td>2018-01-02 14:14:50</td>\n",
       "      <td>13.89</td>\n",
       "      <td>424254840012</td>\n",
       "      <td>5</td>\n",
       "      <td>Urban</td>\n",
       "    </tr>\n",
       "  </tbody>\n",
       "</table>\n",
       "</div>"
      ],
      "text/plain": [
       "                 city                 date   fare        ride_id  \\\n",
       "0  Lake Jonathanshire  2018-01-14 10:14:22  13.83  5739410935873   \n",
       "1  Lake Jonathanshire  2018-04-07 20:51:11  31.25  4441251834598   \n",
       "2  Lake Jonathanshire  2018-03-09 23:45:55  19.89  2389495660448   \n",
       "3  Lake Jonathanshire  2018-04-07 18:09:21  24.28  7796805191168   \n",
       "4  Lake Jonathanshire  2018-01-02 14:14:50  13.89   424254840012   \n",
       "\n",
       "   driver_count   type  \n",
       "0             5  Urban  \n",
       "1             5  Urban  \n",
       "2             5  Urban  \n",
       "3             5  Urban  \n",
       "4             5  Urban  "
      ]
     },
     "execution_count": 2,
     "metadata": {},
     "output_type": "execute_result"
    }
   ],
   "source": [
    "merged_data = pd.merge(ride_data_df, city_data_df, on=\"city\")\n",
    "# Display the data table for preview\n",
    "merged_data.head()"
   ]
  },
  {
   "cell_type": "markdown",
   "metadata": {},
   "source": [
    "## Bubble Plot of Ride Sharing Data"
   ]
  },
  {
   "cell_type": "code",
   "execution_count": 3,
   "metadata": {
    "scrolled": true
   },
   "outputs": [
    {
     "data": {
      "text/html": [
       "<div>\n",
       "<style scoped>\n",
       "    .dataframe tbody tr th:only-of-type {\n",
       "        vertical-align: middle;\n",
       "    }\n",
       "\n",
       "    .dataframe tbody tr th {\n",
       "        vertical-align: top;\n",
       "    }\n",
       "\n",
       "    .dataframe thead th {\n",
       "        text-align: right;\n",
       "    }\n",
       "</style>\n",
       "<table border=\"1\" class=\"dataframe\">\n",
       "  <thead>\n",
       "    <tr style=\"text-align: right;\">\n",
       "      <th></th>\n",
       "      <th>city</th>\n",
       "      <th>fare</th>\n",
       "      <th>ride_id</th>\n",
       "      <th>driver_count</th>\n",
       "      <th>Rides</th>\n",
       "    </tr>\n",
       "  </thead>\n",
       "  <tbody>\n",
       "    <tr>\n",
       "      <th>0</th>\n",
       "      <td>Amandaburgh</td>\n",
       "      <td>24.641667</td>\n",
       "      <td>5.359336e+12</td>\n",
       "      <td>12.0</td>\n",
       "      <td>18</td>\n",
       "    </tr>\n",
       "    <tr>\n",
       "      <th>1</th>\n",
       "      <td>Barajasview</td>\n",
       "      <td>25.332273</td>\n",
       "      <td>4.676968e+12</td>\n",
       "      <td>26.0</td>\n",
       "      <td>22</td>\n",
       "    </tr>\n",
       "    <tr>\n",
       "      <th>2</th>\n",
       "      <td>Barronchester</td>\n",
       "      <td>36.422500</td>\n",
       "      <td>4.460796e+12</td>\n",
       "      <td>11.0</td>\n",
       "      <td>16</td>\n",
       "    </tr>\n",
       "    <tr>\n",
       "      <th>3</th>\n",
       "      <td>Bethanyland</td>\n",
       "      <td>32.956111</td>\n",
       "      <td>5.842550e+12</td>\n",
       "      <td>22.0</td>\n",
       "      <td>18</td>\n",
       "    </tr>\n",
       "    <tr>\n",
       "      <th>4</th>\n",
       "      <td>Bradshawfurt</td>\n",
       "      <td>40.064000</td>\n",
       "      <td>3.735294e+12</td>\n",
       "      <td>7.0</td>\n",
       "      <td>10</td>\n",
       "    </tr>\n",
       "  </tbody>\n",
       "</table>\n",
       "</div>"
      ],
      "text/plain": [
       "            city       fare       ride_id  driver_count  Rides\n",
       "0    Amandaburgh  24.641667  5.359336e+12          12.0     18\n",
       "1    Barajasview  25.332273  4.676968e+12          26.0     22\n",
       "2  Barronchester  36.422500  4.460796e+12          11.0     16\n",
       "3    Bethanyland  32.956111  5.842550e+12          22.0     18\n",
       "4   Bradshawfurt  40.064000  3.735294e+12           7.0     10"
      ]
     },
     "execution_count": 3,
     "metadata": {},
     "output_type": "execute_result"
    }
   ],
   "source": [
    "grouped_city = merged_data.groupby(\"city\").mean()\n",
    "rides_by_city = merged_data[\"city\"].value_counts()\n",
    "city_rides_df = rides_by_city.rename_axis('city').reset_index(name=\"Rides\")\n",
    "avg_fare_by_city_df = pd.merge(grouped_city, city_rides_df, on=\"city\")\n",
    "avg_fare_by_city_df.head()\n"
   ]
  },
  {
   "cell_type": "code",
   "execution_count": 4,
   "metadata": {},
   "outputs": [
    {
     "data": {
      "text/html": [
       "<div>\n",
       "<style scoped>\n",
       "    .dataframe tbody tr th:only-of-type {\n",
       "        vertical-align: middle;\n",
       "    }\n",
       "\n",
       "    .dataframe tbody tr th {\n",
       "        vertical-align: top;\n",
       "    }\n",
       "\n",
       "    .dataframe thead th {\n",
       "        text-align: right;\n",
       "    }\n",
       "</style>\n",
       "<table border=\"1\" class=\"dataframe\">\n",
       "  <thead>\n",
       "    <tr style=\"text-align: right;\">\n",
       "      <th></th>\n",
       "      <th>city</th>\n",
       "      <th>type</th>\n",
       "      <th>fare</th>\n",
       "      <th>ride_id</th>\n",
       "      <th>driver_count</th>\n",
       "      <th>Rides</th>\n",
       "    </tr>\n",
       "  </thead>\n",
       "  <tbody>\n",
       "    <tr>\n",
       "      <th>0</th>\n",
       "      <td>Lake Jonathanshire</td>\n",
       "      <td>Urban</td>\n",
       "      <td>23.425833</td>\n",
       "      <td>4.709922e+12</td>\n",
       "      <td>5.0</td>\n",
       "      <td>24</td>\n",
       "    </tr>\n",
       "    <tr>\n",
       "      <th>1</th>\n",
       "      <td>South Michelleport</td>\n",
       "      <td>Urban</td>\n",
       "      <td>24.451613</td>\n",
       "      <td>4.727560e+12</td>\n",
       "      <td>72.0</td>\n",
       "      <td>31</td>\n",
       "    </tr>\n",
       "    <tr>\n",
       "      <th>2</th>\n",
       "      <td>Port Samanthamouth</td>\n",
       "      <td>Urban</td>\n",
       "      <td>25.642800</td>\n",
       "      <td>4.418397e+12</td>\n",
       "      <td>57.0</td>\n",
       "      <td>25</td>\n",
       "    </tr>\n",
       "    <tr>\n",
       "      <th>3</th>\n",
       "      <td>Rodneyfort</td>\n",
       "      <td>Urban</td>\n",
       "      <td>28.616957</td>\n",
       "      <td>4.973479e+12</td>\n",
       "      <td>34.0</td>\n",
       "      <td>23</td>\n",
       "    </tr>\n",
       "    <tr>\n",
       "      <th>4</th>\n",
       "      <td>South Jack</td>\n",
       "      <td>Urban</td>\n",
       "      <td>22.965263</td>\n",
       "      <td>4.892221e+12</td>\n",
       "      <td>46.0</td>\n",
       "      <td>19</td>\n",
       "    </tr>\n",
       "  </tbody>\n",
       "</table>\n",
       "</div>"
      ],
      "text/plain": [
       "                 city   type       fare       ride_id  driver_count  Rides\n",
       "0  Lake Jonathanshire  Urban  23.425833  4.709922e+12           5.0     24\n",
       "1  South Michelleport  Urban  24.451613  4.727560e+12          72.0     31\n",
       "2  Port Samanthamouth  Urban  25.642800  4.418397e+12          57.0     25\n",
       "3          Rodneyfort  Urban  28.616957  4.973479e+12          34.0     23\n",
       "4          South Jack  Urban  22.965263  4.892221e+12          46.0     19"
      ]
     },
     "execution_count": 4,
     "metadata": {},
     "output_type": "execute_result"
    }
   ],
   "source": [
    "# Make sure there is a city type assigned to each city\n",
    "no_repeat_city_df = merged_data.drop_duplicates(subset='city', keep=\"first\")\n",
    "no_repeat_city_df.head()\n",
    "dropped_no_repeat_city = no_repeat_city_df.drop(['fare', 'date', 'ride_id', 'driver_count'], axis=1)\n",
    "dropped_no_repeat_city.head()\n",
    "city_type_df = pd.merge(dropped_no_repeat_city, avg_fare_by_city_df, on=\"city\")\n",
    "city_type_df.head()"
   ]
  },
  {
   "cell_type": "code",
   "execution_count": 5,
   "metadata": {},
   "outputs": [],
   "source": [
    "# Obtain the x and y coordinates for each of the three city types\n",
    "# Urban plot\n",
    "urban_df = city_type_df.loc[city_type_df[\"type\"] == \"Urban\", :]\n",
    "urban_x = urban_df[\"Rides\"]\n",
    "urban_y = urban_df[\"fare\"]"
   ]
  },
  {
   "cell_type": "code",
   "execution_count": 6,
   "metadata": {},
   "outputs": [],
   "source": [
    "#Suburban x and y coordinates\n",
    "suburban_df = city_type_df.loc[city_type_df[\"type\"] == \"Suburban\", :]\n",
    "suburban_x = suburban_df[\"Rides\"]\n",
    "suburban_y = suburban_df[\"fare\"]"
   ]
  },
  {
   "cell_type": "code",
   "execution_count": 7,
   "metadata": {},
   "outputs": [],
   "source": [
    "# Rural x and y coordinates\n",
    "rural_df = city_type_df.loc[city_type_df[\"type\"] == \"Rural\", :]\n",
    "rural_x = rural_df[\"Rides\"]\n",
    "rural_y = rural_df[\"fare\"]"
   ]
  },
  {
   "cell_type": "code",
   "execution_count": 8,
   "metadata": {
    "scrolled": false
   },
   "outputs": [
    {
     "data": {
      "image/png": "[encoded data removed]",
      "text/plain": [
       "<Figure size 432x288 with 1 Axes>"
      ]
     },
     "metadata": {
      "needs_background": "light"
     },
     "output_type": "display_data"
    }
   ],
   "source": [
    "# Variables for bubble size off driver_count\n",
    "z_bub_urban = urban_df['driver_count']\n",
    "z_bub_suburban = suburban_df['driver_count']\n",
    "z_bub_rural = rural_df['driver_count']\n",
    "\n",
    "# Plotting the scatter on the same chart\n",
    "fig = plt.figure()\n",
    "ax1 = fig.add_subplot(111)\n",
    "\n",
    "ax1.scatter(urban_x, urban_y, z_bub_urban*5, facecolors=\"coral\", edgecolors=\"black\", alpha=0.5, label = 'Urban')\n",
    "ax1.scatter(suburban_x, suburban_y, z_bub_suburban*5, facecolors=\"skyblue\", edgecolors=\"black\", alpha=0.5, label = 'Suburban')\n",
    "ax1.scatter(rural_x, rural_y, z_bub_rural*5, facecolors=\"gold\", edgecolors=\"black\", alpha=0.5, label = 'Rural')\n",
    "\n",
    "\n",
    "# Graph Formatting\n",
    "# Title and Labels\n",
    "ax1.set_title(\"Pyber Ride Sharing Data (2016)\")\n",
    "ax1.set_xlabel(\"Number of Rides per City\")\n",
    "ax1.set_ylabel(\"Average Fare (in USD)\")\n",
    "# Legend, Gridlines, Text Note\n",
    "plt.legend(title='City Type', loc='upper right')\n",
    "ax1.grid()\n",
    "ax1.text(42, 32.5, \"Note: Circle size correlates with driver count per city.\")\n",
    "# Save Image\n",
    "plt.savefig(\"PyberBubblePlot.png\")\n"
   ]
  },
  {
   "cell_type": "code",
   "execution_count": null,
   "metadata": {},
   "outputs": [],
   "source": [
    "# Show plot\n",
    "plt.show()"
   ]
  },
  {
   "cell_type": "markdown",
   "metadata": {},
   "source": [
    "## Total Fares by City Type"
   ]
  },
  {
   "cell_type": "code",
   "execution_count": 9,
   "metadata": {},
   "outputs": [],
   "source": [
    "total_urban_df = merged_data.loc[merged_data[\"type\"] == \"Urban\", :]\n",
    "total_suburban_df = merged_data.loc[merged_data['type'] == \"Suburban\"]\n",
    "total_rural_df = merged_data.loc[merged_data['type'] == \"Rural\"]"
   ]
  },
  {
   "cell_type": "code",
   "execution_count": 10,
   "metadata": {},
   "outputs": [],
   "source": [
    "# Calculate Type Percents\n",
    "# Get df with all fares by city type\n",
    "\n",
    "\n",
    "# Total Fares for all city types\n",
    "total_fare = merged_data['fare'].sum()\n",
    "\n",
    "# Total fares by city type\n",
    "total_urban_fare = total_urban_df['fare'].sum()\n",
    "percent_urban_fare = total_urban_fare / total_fare\n",
    "\n",
    "total_suburban_fare = total_suburban_df['fare'].sum()\n",
    "percent_suburban_fare = total_suburban_fare / total_fare\n",
    "\n",
    "total_rural_fare = total_rural_df['fare'].sum()\n",
    "percent_rural_fare = total_rural_fare / total_fare"
   ]
  },
  {
   "cell_type": "code",
   "execution_count": 25,
   "metadata": {},
   "outputs": [
    {
     "data": {
      "image/png": "[encoded data removed]",
      "text/plain": [
       "<Figure size 432x288 with 1 Axes>"
      ]
     },
     "metadata": {},
     "output_type": "display_data"
    }
   ],
   "source": [
    "# Build Pie Chart\n",
    "fare_percents = [percent_urban_fare,percent_suburban_fare,percent_rural_fare]\n",
    "type_labels = [\"Urban\", \"Suburban\", \"Rural\"]\n",
    "colors = [\"coral\", \"skyblue\", \"gold\"]\n",
    "plt.pie(fare_percents, labels=type_labels, colors=colors,\n",
    "        autopct=\"%1.1f%%\", shadow=False, startangle=40)\n",
    "# Formatting\n",
    "plt.title(\"Percent of Total Fare by City Type\")\n",
    "# Create axes which are equal so we have a perfect circle\n",
    "plt.axis(\"equal\")\n",
    "plt.show\n",
    "# # Save Figure\n",
    "plt.savefig(\"FareByCity.png\")"
   ]
  },
  {
   "cell_type": "code",
   "execution_count": null,
   "metadata": {},
   "outputs": [],
   "source": [
    "# Show Figure\n",
    "plt.show() "
   ]
  },
  {
   "cell_type": "markdown",
   "metadata": {},
   "source": [
    "## Total Rides by City Type"
   ]
  },
  {
   "cell_type": "code",
   "execution_count": 20,
   "metadata": {},
   "outputs": [],
   "source": [
    "# Calculate Ride Percents\n",
    "# Find total number of Urban, Rural, Suburban rides\n",
    "total_rides = merged_data[\"ride_id\"].count()\n",
    "total_urban_rides = total_urban_df['ride_id'].count()\n",
    "total_suburban_rides = total_suburban_df['ride_id'].count()\n",
    "total_rural_rides = total_rural_df['ride_id'].count()\n",
    "# Percent of Rides by Types\n",
    "percent_urban_rides = total_urban_rides / total_rides\n",
    "percent_suburban_rides = total_suburban_rides / total_rides\n",
    "percent_rural_rides = total_rural_rides / total_rides\n",
    "\n"
   ]
  },
  {
   "cell_type": "code",
   "execution_count": 26,
   "metadata": {},
   "outputs": [
    {
     "data": {
      "image/png": "[encoded data removed]",
      "text/plain": [
       "<Figure size 432x288 with 1 Axes>"
      ]
     },
     "metadata": {},
     "output_type": "display_data"
    }
   ],
   "source": [
    "# Build Pie Chart\n",
    "ride_percents = [percent_urban_rides,percent_suburban_rides,percent_rural_rides]\n",
    "type_labels = [\"Urban\", \"Suburban\", \"Rural\"]\n",
    "colors = [\"coral\", \"skyblue\", \"gold\"]\n",
    "plt.pie(ride_percents, labels=type_labels, colors=colors,\n",
    "        autopct=\"%1.1f%%\", shadow=False, startangle=40)\n",
    "\n",
    "plt.axis(\"equal\")\n",
    "plt.title(\"Percent of Total Rides by City Type\")\n",
    "# Save Figure\n",
    "plt.savefig(\"RidesByCity.png\")"
   ]
  },
  {
   "cell_type": "code",
   "execution_count": null,
   "metadata": {},
   "outputs": [],
   "source": [
    "# Show Figure\n",
    "plt.show()"
   ]
  },
  {
   "cell_type": "markdown",
   "metadata": {},
   "source": [
    "## Total Drivers by City Type"
   ]
  },
  {
   "cell_type": "code",
   "execution_count": 16,
   "metadata": {},
   "outputs": [],
   "source": [
    "# Calculate Number of Drivers per City Type\n",
    "urban_drivers = urban_df[\"driver_count\"].sum()\n",
    "suburban_drivers = suburban_df['driver_count'].sum()\n",
    "rural_drivers = rural_df['driver_count'].sum()\n",
    "total_drivers = urban_drivers + suburban_drivers + rural_drivers\n",
    "# Calculate Percentages of Drivers by City\n",
    "percent_urban_drivers = urban_drivers / total_drivers\n",
    "percent_suburban_drivers = suburban_drivers / total_drivers\n",
    "percent_rural_drivers = rural_drivers / total_drivers\n"
   ]
  },
  {
   "cell_type": "code",
   "execution_count": 27,
   "metadata": {},
   "outputs": [
    {
     "data": {
      "image/png": "[encoded data removed]",
      "text/plain": [
       "<Figure size 432x288 with 1 Axes>"
      ]
     },
     "metadata": {},
     "output_type": "display_data"
    }
   ],
   "source": [
    "# Build Pie Chart\n",
    "driver_percents = [percent_urban_drivers,percent_suburban_drivers,percent_rural_drivers]\n",
    "type_labels = [\"Urban\", \"Suburban\", \"Rural\"]\n",
    "colors = [\"coral\", \"skyblue\", \"gold\"]\n",
    "plt.pie(driver_percents, labels=type_labels, colors=colors,\n",
    "        autopct=\"%1.1f%%\", shadow=False, startangle=40)\n",
    "\n",
    "plt.axis(\"equal\")\n",
    "plt.title(\"Percent of Total Drivers by City Type\")\n",
    "\n",
    "# Save Figure\n",
    "plt.savefig(\"DriversByCity.png\")"
   ]
  },
  {
   "cell_type": "code",
   "execution_count": null,
   "metadata": {
    "scrolled": true
   },
   "outputs": [],
   "source": [
    "# Show Figure\n",
    "plt.show()"
   ]
  },
  {
   "cell_type": "code",
   "execution_count": null,
   "metadata": {},
   "outputs": [],
   "source": []
  }
 ],
 "metadata": {
  "anaconda-cloud": {},
  "kernelspec": {
   "display_name": "Python 3",
   "language": "python",
   "name": "python3"
  },
  "language_info": {
   "codemirror_mode": {
    "name": "ipython",
    "version": 3
   },
   "file_extension": ".py",
   "mimetype": "text/x-python",
   "name": "python",
   "nbconvert_exporter": "python",
   "pygments_lexer": "ipython3",
   "version": "3.7.3"
  },
  "latex_envs": {
   "LaTeX_envs_menu_present": true,
   "autoclose": false,
   "autocomplete": true,
   "bibliofile": "biblio.bib",
   "cite_by": "apalike",
   "current_citInitial": 1,
   "eqLabelWithNumbers": true,
   "eqNumInitial": 1,
   "hotkeys": {
    "equation": "Ctrl-E",
    "itemize": "Ctrl-I"
   },
   "labels_anchors": false,
   "latex_user_defs": false,
   "report_style_numbering": false,
   "user_envs_cfg": false
  }
 },
 "nbformat": 4,
 "nbformat_minor": 2
}
